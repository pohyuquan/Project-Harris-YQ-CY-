{
 "cells": [
  {
   "cell_type": "code",
   "execution_count": 1,
   "metadata": {
    "collapsed": true
   },
   "outputs": [],
   "source": [
    "import pandas as pd \n",
    "import numpy as np"
   ]
  },
  {
   "cell_type": "code",
   "execution_count": 2,
   "metadata": {
    "collapsed": false
   },
   "outputs": [],
   "source": [
    "df08 = pd.read_excel('100LSD_Fiscal_Tables_FY08.xlsx', header=2)\n",
    "df09 = pd.read_excel('100LSD_Fiscal_Tables_FY09.xlsx', header=2)\n",
    "df10 = pd.read_excel('100LSD_Fiscal_Tables_FY10.xlsx', header=2)\n",
    "df11 = pd.read_excel('100LSD_Fiscal_Tables_FY11.xlsx', header=2)"
   ]
  },
  {
   "cell_type": "code",
   "execution_count": 3,
   "metadata": {
    "collapsed": false
   },
   "outputs": [],
   "source": [
    "df08.dropna(inplace = True)\n",
    "df09.dropna(inplace = True)\n",
    "df10.dropna(inplace = True)\n",
    "df11.dropna(inplace = True)"
   ]
  },
  {
   "cell_type": "code",
   "execution_count": 4,
   "metadata": {
    "collapsed": false
   },
   "outputs": [],
   "source": [
    "df10_nospace = pd.core.strings.str_strip(df10['Name of reporting district'])\n",
    "df11_nospace = pd.core.strings.str_strip(df11['Name of reporting district'])"
   ]
  },
  {
   "cell_type": "code",
   "execution_count": 5,
   "metadata": {
    "collapsed": true
   },
   "outputs": [],
   "source": [
    "df08['Year'] = np.array(2008)\n",
    "df09['Year'] = np.array(2009)\n",
    "df10['Year'] = np.array(2010)\n",
    "df11['Year'] = np.array(2011)"
   ]
  },
  {
   "cell_type": "code",
   "execution_count": 6,
   "metadata": {
    "collapsed": false
   },
   "outputs": [],
   "source": [
    "df10.drop('Name of reporting district', axis=1, inplace=True)\n",
    "df10['Name of reporting district'] = df10_nospace\n",
    "df11.drop('Name of reporting district', axis=1, inplace=True)\n",
    "df11['Name of reporting district'] = df11_nospace"
   ]
  },
  {
   "cell_type": "code",
   "execution_count": 7,
   "metadata": {
    "collapsed": false,
    "scrolled": true
   },
   "outputs": [],
   "source": [
    "cols = df10.columns.tolist()\n",
    "col2 = cols[-1:] + cols[:-1]\n",
    "df10 = df10[col2]\n",
    "df11 = df11[col2]"
   ]
  },
  {
   "cell_type": "code",
   "execution_count": 10,
   "metadata": {
    "collapsed": false
   },
   "outputs": [],
   "source": [
    "merged0809 = pd.merge(df08, df09, how = \"outer\")\n",
    "merged0810 = pd.merge(merged0809, df10, how = \"outer\")\n",
    "merged0811 = pd.merge(merged0810, df11, how = \"outer\")\n",
    "merged0811\n",
    "merged0811.to_csv(\"fiscal-outer-08-11.csv\", inplace = True)\n"
   ]
  },
  {
   "cell_type": "code",
   "execution_count": 11,
   "metadata": {
    "collapsed": false
   },
   "outputs": [],
   "source": [
    "merged = pd.merge(pd.merge(pd.merge\n",
    "    (df08, df09, left_on=\"Name of reporting district\", right_on=\"Name of reporting district\"),\n",
    "        df10, left_on=\"Name of reporting district\", right_on=\"Name of reporting district\"),\n",
    "            df11, left_on=\"Name of reporting district\", right_on=\"Name of reporting district\")\n",
    "merged.to_csv(\"fiscal-inner-08-11.csv\", inplace = True)"
   ]
  }
 ],
 "metadata": {
  "anaconda-cloud": {},
  "kernelspec": {
   "display_name": "Python [conda root]",
   "language": "python",
   "name": "conda-root-py"
  },
  "language_info": {
   "codemirror_mode": {
    "name": "ipython",
    "version": 3
   },
   "file_extension": ".py",
   "mimetype": "text/x-python",
   "name": "python",
   "nbconvert_exporter": "python",
   "pygments_lexer": "ipython3",
   "version": "3.5.2"
  }
 },
 "nbformat": 4,
 "nbformat_minor": 1
}
